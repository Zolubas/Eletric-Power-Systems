{
 "cells": [
  {
   "cell_type": "markdown",
   "metadata": {},
   "source": [
    "# Desafio\n",
    "\n",
    "Na matriz de impedâncias série de linha sem transposição as \"impedâncias mútuas\" possuem parte real não nula por conta da carga/impedância de fio neutro. A corrente que flui nela é IA + IB + IC sendo portanto VN'N = ZN(IA + IB + IC) e [VAN VBN VCN] = [VAN' VBN' VCN'] + [VN'N VN'N VN'N] (todas matrizes coluna). Assim, aparece uma parte real na matriz de impedâncias série junto onde esperava-se somente parte imaginária devido a indutâncias mutuas.\n"
   ]
  },
  {
   "cell_type": "markdown",
   "metadata": {},
   "source": [
    "#  Desafio\n",
    "Embora os três fios sejam identicos é preciso considerar que existem ligeiras diferenças em seu caminho que podem ter ocasionado isso:\n",
    "##### Parte Resisitiva \n",
    "1) Resistência na emenda dos fios \n",
    "##### Parte Reativa \n",
    "1) Diferenças no solo abaixo da passagem da rede elétrica entre as fases de tal modo que a \"espira\" fechada entre uma dada fase e o solo em comparação com outro par fase-solo seja diferente.\n",
    "* Extrato do solo\n",
    "* Materias diferentes abaixo de cada fase\n",
    "* **Diferenças de altura entre um cabo e o solo devido a geometria da torre de transmissão**\n",
    "\n",
    "Com tudo observa-se que essas diferenças, apesar de indesejadas , ainda ficam na ordem de deca-ohms."
   ]
  },
  {
   "cell_type": "code",
   "execution_count": 59,
   "metadata": {},
   "outputs": [
    {
     "name": "stdout",
     "output_type": "stream",
     "text": [
      "Resistenências = 16.919999999999998 ; 16.66 ; 16.919999999999998\n",
      "Reatâncias = 128.46 ; 128.76000000000002 ; 128.46\n"
     ]
    }
   ],
   "source": [
    "RA = Z[0][0].real\n",
    "RB = Z[1][1].real\n",
    "RC = Z[2][2].real\n",
    "\n",
    "XA = Z[0][0].imag\n",
    "XB = Z[1][1].imag\n",
    "XC = Z[2][2].imag\n",
    "print(\"Resistenências = \" + str(RA) +\" ; \"+ str(RB) +\" ; \"+ str(RC))\n",
    "print(\"Reatâncias = \" + str(XA) +\" ; \"+ str(XB) +\" ; \"+ str(XC))"
   ]
  },
  {
   "cell_type": "markdown",
   "metadata": {},
   "source": [
    "#  Desafio\n",
    "A reatância de cada fase nos dará uma idea boa da distribuição geométrica dos fios dado que a Indutância prórpia nesse caso dependerá de fatores geométricos da espira formada entre o cabo e o solo. \n",
    "\n",
    "Matemáticamente temos que:\n",
    "\n",
    "L = N²/***R*** [H]\n",
    "\n",
    "***R*** = lm/***u***.S [H-¹]\n",
    "\n",
    "S = \"Área da espira\" = h.L_cabo [m]\n",
    "\n",
    "h = altura do fio ; L_cabo = comprimento do cabo\n",
    "\n",
    "Ou seja, considerando-se sigma = N².***u***.L_cabo / lm\n",
    "\n",
    "Temos uma formula para L em função da altura h:\n",
    "\n",
    "                            L = sigma.h"
   ]
  },
  {
   "cell_type": "code",
   "execution_count": 60,
   "metadata": {},
   "outputs": [
    {
     "name": "stdout",
     "output_type": "stream",
     "text": [
      "Indutâncias prórpias 0.34075073315974796 ; 0.34154650787520746 ; 0.34075073315974796\n",
      "Indutâncias prórpias normalizadas 99.76700838769804 ; 100.0 ; 99.76700838769804\n"
     ]
    }
   ],
   "source": [
    "#Sendo assim tempos que:\n",
    "#(Assumindo-se a rede brasileira em 60 Hz)\n",
    "f = 60\n",
    "w  = 2*np.pi*f\n",
    "LA = XA/w\n",
    "LB = XB/w\n",
    "LC = XC/w\n",
    "print(\"Indutâncias prórpias \" + str(LA) +\" ; \"+ str(LB) +\" ; \"+ str(LC))\n",
    "print(\"Indutâncias prórpias normalizadas \" + str(100*LA/LB) +\" ; \"+ str(100*LB/LB) +\" ; \"+ str(100*LC/LB))"
   ]
  },
  {
   "cell_type": "markdown",
   "metadata": {},
   "source": [
    "Assim conclui-se que as fases A e C são lançadas a uma mesma altura ao passo que a fase B é lançada a uma altura superior as outras duas descrita pela relação linear entre indutância prórpia e altura do cabo descrita acima.\n",
    "(Para essa analise assumiu-se que todos os parâmetros que compõe *sigma* fossem aproximadamente constantes."
   ]
  },
  {
   "cell_type": "markdown",
   "metadata": {},
   "source": [
    "![](https://github.com/Zolubas/Eletric-Power-Systems/blob/master/tiposdetorresdetransmissao.png?raw=true.png)"
   ]
  },
  {
   "cell_type": "markdown",
   "metadata": {},
   "source": [
    "De uma forma visual, poderiamos concluir que dentre esses tipos de torre para linha de transmissão a torre utilizada seria aquela destacada a esquerda.\n",
    "https://www.abcem.org.br/construmetal/2016/downloads/apresentacao/18_TORRE-DE-TRANSMISSAO-DE-ENERGIA-ELETRICA.pdf"
   ]
  },
  {
   "cell_type": "markdown",
   "metadata": {},
   "source": [
    "# Desafio\n"
   ]
  },
  {
   "cell_type": "markdown",
   "metadata": {},
   "source": [
    "### Item A)\n",
    "Como a matriz de correntes IGi é nula segue que Z = Z3X3 "
   ]
  },
  {
   "cell_type": "code",
   "execution_count": 61,
   "metadata": {},
   "outputs": [
    {
     "name": "stdout",
     "output_type": "stream",
     "text": [
      "Matriz de impedâncias genérica 3x3 com cabos guarda aterrados nas extremidades:\n",
      "[[0.0846+0.6423j 0.0567+0.3308j 0.0573+0.3499j]\n",
      " [0.0567+0.3308j 0.0833+0.6438j 0.0567+0.3308j]\n",
      " [0.0573+0.3499j 0.0567+0.3308j 0.0846+0.6423j]]\n",
      "\n",
      "Matriz de impedâncias duma linha de 200km 3x3 com cabos guarda aterrados nas extremidades:\n",
      "[[16.92+128.46j 11.34 +66.16j 11.46 +69.98j]\n",
      " [11.34 +66.16j 16.66+128.76j 11.34 +66.16j]\n",
      " [11.46 +69.98j 11.34 +66.16j 16.92+128.46j]]\n"
     ]
    }
   ],
   "source": [
    "Z3X3 = np.array([[0.0846 + 0.6423j , 0.0567 + 0.3308j , 0.0573 + 0.3499j],\n",
    "    [0.0567 + 0.3308j , 0.0833 + 0.6438j , 0.0567 + 0.3308j],\n",
    "    [0.0573 + 0.3499j ,  0.0567 + 0.3308j , 0.0846 + 0.6423j]])\n",
    "print(\"Matriz de impedâncias genérica 3x3 com cabos guarda aterrados nas extremidades:\")\n",
    "print(Z3X3)\n",
    "print()\n",
    "print(\"Matriz de impedâncias duma linha de 200km 3x3 com cabos guarda aterrados nas extremidades:\")\n",
    "print(200*Z3X3)"
   ]
  },
  {
   "cell_type": "markdown",
   "metadata": {},
   "source": [
    "### Item B)\n",
    "Usando-se a técnica descrita no seguinte Estudo da UNICAMP \n",
    "http://repositorio.unicamp.br/jspui/bitstream/REPOSIP/260970/1/SeguraSalas_CresencioSilvio_D.pdf\n",
    "\n",
    "sobre linhas aéreas como referência chega-se a seguinte decomposição de submatrizes:"
   ]
  },
  {
   "cell_type": "code",
   "execution_count": 62,
   "metadata": {},
   "outputs": [
    {
     "name": "stdout",
     "output_type": "stream",
     "text": [
      "Matriz de impedâncias genérica 3x3 com cabos guarda aterrados nas extremidades:\n",
      "[[0.10410922+0.62753022j 0.08003312+0.31423621j 0.06742401+0.31583105j]\n",
      " [0.08003312+0.31423621j 0.11116806+0.62527638j 0.06974239+0.29119886j]\n",
      " [0.06742401+0.31583105j 0.06974239+0.29119886j 0.04723343+0.59590163j]]\n",
      "\n",
      "Matriz de impedâncias duma linha de 200km 3x3 com cabos guarda aterrados nas extremidades:\n",
      "[[20.82184397+125.50604472j 16.00662448 +62.84724214j\n",
      "  13.48480247 +63.16621079j]\n",
      " [16.00662448 +62.84724214j 22.23361236+125.05527529j\n",
      "  13.94847739 +58.23977186j]\n",
      " [13.48480247 +63.16621079j 13.94847739 +58.23977186j\n",
      "   9.44668552+119.1803255j ]]\n"
     ]
    }
   ],
   "source": [
    "#np.array([[],[],[]])\n",
    "\n",
    "#Cabos Guarda aterrados nas duas extremidades [CASO B]\n",
    "\n",
    "    #Definição das Matrizes\n",
    "\n",
    "Z3X3 = np.array([[0.0846 + 0.6423j , 0.0567 + 0.3308j , 0.0573 + 0.3499j],\n",
    "    [0.0567 + 0.3308j , 0.0833 + 0.6438j , 0.0567 + 0.3308j],\n",
    "    [0.0573 + 0.3499j ,  0.0567 + 0.3308j , 0.0846 + 0.6423j]])\n",
    "\n",
    "ZG3  = np.array([[0.0559 + 0.2813j , 0.0559 + 0.2782j],[0.0553 + 0.3290j , 0.0553 + 0.3290j],[0.0559 + 0.2782j , 0.559 + 0.2813j]])\n",
    "ZG3T = ZG3.transpose() \n",
    "ZGG  = np.array([[6.3848 + 1.2668j , 0.0546 + 0.4020j ],[0.0546 + 0.4020j , 6.3848 + 1.2668j]])\n",
    "\n",
    "    #Calculo da Solução\n",
    "ZG_TERRA_2_EXTREMOS = Z3X3 - np.dot(np.dot(ZG3,np.linalg.inv(ZGG)),ZG3T)\n",
    "print(\"Matriz de impedâncias genérica 3x3 com cabos guarda aterrados nas extremidades:\")\n",
    "print(ZG_TERRA_2_EXTREMOS)\n",
    "print()\n",
    "print(\"Matriz de impedâncias duma linha de 200km 3x3 com cabos guarda aterrados nas extremidades:\")\n",
    "print(200*ZG_TERRA_2_EXTREMOS)"
   ]
  },
  {
   "cell_type": "markdown",
   "metadata": {},
   "source": [
    "![](https://github.com/Zolubas/Eletric-Power-Systems/blob/master/guardcablepowereletricsystem.png?raw=true.png)"
   ]
  }
 ],
 "metadata": {
  "kernelspec": {
   "display_name": "Python 3",
   "language": "python",
   "name": "python3"
  },
  "language_info": {
   "codemirror_mode": {
    "name": "ipython",
    "version": 3
   },
   "file_extension": ".py",
   "mimetype": "text/x-python",
   "name": "python",
   "nbconvert_exporter": "python",
   "pygments_lexer": "ipython3",
   "version": "3.7.3"
  }
 },
 "nbformat": 4,
 "nbformat_minor": 2
}
