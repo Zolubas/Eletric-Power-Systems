{
 "cells": [
  {
   "cell_type": "markdown",
   "metadata": {},
   "source": [
    "# EP0 Powe Systems 0 - Polytechnic School 2020\n"
   ]
  },
  {
   "attachments": {
    "image.png": {
     "image/png": "[encoded data removed]"
    }
   },
   "cell_type": "markdown",
   "metadata": {},
   "source": [
    "![image.png](attachment:image.png)"
   ]
  },
  {
   "cell_type": "code",
   "execution_count": 1,
   "metadata": {},
   "outputs": [],
   "source": [
    "#Libries Importing Secction\n",
    "import math\n",
    "import numpy as np\n",
    "import cmath \n",
    "# https://docs.python.org/2/library/cmath.html"
   ]
  },
  {
   "cell_type": "markdown",
   "metadata": {},
   "source": [
    "## Data definition"
   ]
  },
  {
   "cell_type": "code",
   "execution_count": 2,
   "metadata": {},
   "outputs": [
    {
     "name": "stdout",
     "output_type": "stream",
     "text": [
      "5.0\n",
      "5.0\n",
      "0.9272952180016122\n",
      "0.41822432957922906\n",
      "(3-4j)\n"
     ]
    },
    {
     "data": {
      "text/plain": [
       "(3-4j)"
      ]
     },
     "execution_count": 2,
     "metadata": {},
     "output_type": "execute_result"
    }
   ],
   "source": [
    "h = 3 + 4j\n",
    "y = np.cdouble(3 + (4/3)*1j)\n",
    "print(abs(h))\n",
    "print(np.absolute(h))\n",
    "print(cmath.phase(h))\n",
    "print(np.angle(y))\n",
    "print(h.conjugate())\n",
    "np.conj(h)"
   ]
  },
  {
   "cell_type": "code",
   "execution_count": 3,
   "metadata": {},
   "outputs": [
    {
     "name": "stdout",
     "output_type": "stream",
     "text": [
      "1.7320508075688772 1.7320508075688772\n"
     ]
    }
   ],
   "source": [
    "print(math.sqrt(3),np.sqrt(3))"
   ]
  },
  {
   "cell_type": "code",
   "execution_count": 4,
   "metadata": {},
   "outputs": [
    {
     "name": "stdout",
     "output_type": "stream",
     "text": [
      "(5000000+3333333.3333333335j) (6666666.666666667+4000000j) (13333333.333333334+10000000j) (16666666.666666668+11666666.666666666j)\n"
     ]
    }
   ],
   "source": [
    "    #Scale\n",
    "k = K = 1000 #KILO\n",
    "M = k*k #mega\n",
    "n = 1/(M*k) #nano \n",
    "m = 1/M #micro\n",
    "    # nominal voltage 138/sqrt(3) kv\n",
    "V1 = 138*k/math.sqrt(3) + 0j \n",
    "    #Impedance per kilometer\n",
    "Impedance_per_kilometer = 0.04 + 0.2j \n",
    "    #length of the network between Bn and Bm\n",
    "L12 = 20\n",
    "L23 = 32\n",
    "L25 = 28\n",
    "L26 = 48\n",
    "L34 = 16\n",
    "    #load Data\n",
    "S3 = (5 - 10/3j)*M #Power constant\n",
    "S4 = (20/3 - 12/3j)*M #Impedance constant\n",
    "S5 = (40/3 - 30/3j)*M # Current cosntant\n",
    "S6 = (50/3 - 35/3j)*M #Power constant\n",
    "print(S3,S4,S5,S6)"
   ]
  },
  {
   "cell_type": "code",
   "execution_count": 5,
   "metadata": {},
   "outputs": [
    {
     "name": "stdout",
     "output_type": "stream",
     "text": [
      "(0.8+4j) (1.28+6.4j) (1.12+5.6000000000000005j) (1.92+9.600000000000001j) (0.64+3.2j)\n"
     ]
    }
   ],
   "source": [
    "Z12 = L12*Impedance_per_kilometer\n",
    "Z23 = L23*Impedance_per_kilometer\n",
    "Z25 = L25*Impedance_per_kilometer\n",
    "Z26 = L26*Impedance_per_kilometer\n",
    "Z34 = L34*Impedance_per_kilometer\n",
    "print(Z12,Z23,Z25,Z26,Z34)"
   ]
  },
  {
   "cell_type": "code",
   "execution_count": 6,
   "metadata": {},
   "outputs": [
    {
     "name": "stdout",
     "output_type": "stream",
     "text": [
      "(16666666.666666668+11666666.666666666j)\n",
      "(0.8+4j)\n",
      "(1.28+6.4j)\n",
      "(1.12+5.6000000000000005j)\n",
      "(1.92+9.600000000000001j)\n",
      "(0.64+3.2j)\n",
      "79674.33714816836\n"
     ]
    }
   ],
   "source": [
    "print((S6))\n",
    "print((Z12))\n",
    "print((Z23))\n",
    "print((Z25))\n",
    "print((Z26))\n",
    "print((Z34))\n",
    "print(abs(V1))"
   ]
  },
  {
   "cell_type": "markdown",
   "metadata": {},
   "source": [
    "## Questions (Portuguese)\n",
    "\n",
    "* Qual é o valor da tensão mínima na rede, em porcentagem da tensão nominal?\n",
    "* Qual é o valor da perda ativa total, em [MW]?\n",
    "* Qual é o valor da corrente na linha B1 – B2, em [A]?\n",
    "* Qual é o valor da corrente efetivamente absorvida pela carga da barra B6, em [A]?\n",
    "* Qual é o valor da potência ativa efetivamente absorvida pela carga da barra B3, em [MW]?\n",
    "* Qual é o valor da potência ativa efetivamente absorvida pela carga da barra B4, em [MW]?"
   ]
  },
  {
   "cell_type": "markdown",
   "metadata": {},
   "source": [
    "## Analysis\n",
    "\n"
   ]
  },
  {
   "cell_type": "markdown",
   "metadata": {},
   "source": [
    "### Algorithm to power or current constant loads\n",
    "\n",
    "**Text**\n",
    "\n",
    "* 1) adopt the load voltage equals to the nominal system voltage\n",
    "* 2) calculate the current using the Power especification and the kick voltage adopted\n",
    "* 3) calculate the voltage drop along the network using Z*i and the new value of voltage on load by Vnew = Vsystem - Z*i \n",
    "* 4) Verify step \n",
    "    if abs(Vnew - Vlest_kick < error_tolerable)\n",
    "        Stop algorith\n",
    "    else\n",
    "        Back to the secound step\n",
    "        \n",
    "**High level algorithm abstraction**\n",
    "\n",
    " * V_guess = Vsystem\n",
    " * Vnew = -10000000 #Number to define that (V_guess != Vnew)\n",
    " * wilhe( abs(V_guess - Vnew)>error )\n",
    " * ____  I = (S/V_guess).conjugate()\n",
    " * ____  V_drop = Zline*I\n",
    " * ____  Vnew = Vsystem - V_drop\n",
    "     \n",
    "     "
   ]
  },
  {
   "cell_type": "code",
   "execution_count": 7,
   "metadata": {},
   "outputs": [],
   "source": [
    "#Initial guess\n",
    "V4 = V3 = V5 = V6 = V1   \n"
   ]
  },
  {
   "cell_type": "code",
   "execution_count": 8,
   "metadata": {},
   "outputs": [],
   "source": [
    "#Modeling Loads and finding currenrts\n",
    "\n",
    "#Explanation\n",
    "    #We need to discover the real value of voltage on terminals but we have \n",
    "    #only the voltage of the generator at B1 bar. So to discover the voltage\n",
    "    #drop we need know the currents in each line of the network.\n",
    "    #So we will calculate this values:\n",
    "\n",
    "#B3 Power constant \n",
    "#++++++++++++++++++++++++++++++++++++++++++++++++++++++++\n",
    "I30 = (S3/V3).conjugate()\n",
    "    # constant\n",
    "I30ABS = abs(I30)\n",
    "theta30 = cmath.phase(I30) \n",
    "\n",
    "phi30 = cmath.phase(V1) - theta30\n",
    "\n",
    "#B4 Impedance constant \n",
    "#++++++++++++++++++++++++++++++++++++++++++++++++++++\n",
    "Z40 = (V1*(V1.conjugate()))/S4.conjugate()   #print(polar(Z4)) , V1 = Vnf\n",
    "\n",
    "I40 = V4/Z40  \n",
    "#B5 current constant \n",
    "#++++++++++++++++++++++++++++++++++++++++++++++++++++++\n",
    "I50 = (S5/V1).conjugate()\n",
    "    # constant\n",
    "I50ABS = abs(I50)\n",
    "theta50 = cmath.phase(I50)\n",
    "\n",
    "phi50 = cmath.phase(V1) - theta50\n",
    "\n",
    "#B6 Power constant \n",
    "#++++++++++++++++++++++++++++++++++++++++++++++++++++++++\n",
    "I60 = (S6/V1).conjugate()\n",
    "    # constant\n",
    "I60ABS = abs(I60)\n",
    "theta60 = cmath.phase(I60)\n",
    "\n",
    "phi60 = cmath.phase(V1) - theta60\n"
   ]
  },
  {
   "cell_type": "code",
   "execution_count": 10,
   "metadata": {},
   "outputs": [],
   "source": [
    "def comparasion(V3,V4,V5,V6,VAUX3,VAUX4,VAUX5):\n",
    "    if(abs(VAUX3 - V3) < m and (cmath.phase(VAUX3) - cmath.phase(V3) < m)):\n",
    "        if(abs(VAUX4 - V4) < m and (cmath.phase(VAUX4) - cmath.phase(V4) < m)):\n",
    "            if(abs(VAUX5 - V5) < m and (cmath.phase(VAUX5) - cmath.phase(V5) < m)):\n",
    "                if(abs(VAUX6 - V6) < m and (cmath.phase(VAUX6) - cmath.phase(V6) < m)):\n",
    "                    return 0\n",
    "    else:\n",
    "        return 1"
   ]
  },
  {
   "cell_type": "code",
   "execution_count": 11,
   "metadata": {},
   "outputs": [
    {
     "name": "stdout",
     "output_type": "stream",
     "text": [
      "72\n"
     ]
    }
   ],
   "source": [
    "#Iterating the algorithm\n",
    "VAUX3 = VAUX4 = VAUX5 = VAUX6 = -1 #-M*M is a \"impossible numeber\" to start the iteration\n",
    "iterations = 0\n",
    "#while (comparasion(V3,V4,V5,V6,VAUX3,VAUX4,VAUX5) or iterations == 60):\n",
    "for i in range(72):\n",
    "    #Saving previous voltage values applied to loads\n",
    "   # VAUX3 = V3\n",
    "   # VAUX4 = V4\n",
    "   # VAUX5 = V5\n",
    "   # VAUX6 = V6\n",
    "    \n",
    "    #Fiding all the currents on the network using our initial kick and its consequences\n",
    "    #(Node kirchhoff's law)\n",
    "    I34 = I40\n",
    "    I23 = I40 + I30\n",
    "    I25 = I50\n",
    "    I26 = I60\n",
    "    I12 = I23 + I25 + I26\n",
    "    \n",
    "    #Calculating Voltage drop (Ohm's law)\n",
    "    V12 = Z12*I12\n",
    "    V23 = Z23*I23\n",
    "    V25 = Z25*I25\n",
    "    V26 = Z26*I26\n",
    "    V34 = Z34*I34\n",
    "    \n",
    "    #Calculating New voltage considering voltage drop\n",
    "    V2 = V1 - V12\n",
    "    V3 = V2 - V23\n",
    "    V4 = V3 - V34\n",
    "    V5 = V2 - V25\n",
    "    V6 = V2 - V26\n",
    "    \n",
    "    #Calculating new current acording to load model\n",
    "    I30 = (S3/V3).conjugate()\n",
    "    I40 = V4/Z40  \n",
    "    I50 = cmath.rect(I50ABS,cmath.phase(V5) - phi50)\n",
    "    I60 = (S6/V6).conjugate()\n",
    "    iterations+=1\n",
    "print(iterations)"
   ]
  },
  {
   "cell_type": "code",
   "execution_count": 24,
   "metadata": {},
   "outputs": [],
   "source": [
    "#Assumindo que conhecemos tudo \n",
    "#As respostas do ep:\n",
    "def ep0(V1,V2,V3,V4,V5,V6,I12,I23,I25,I26,I34,I30,I50,I60,I40,S3,S4,S5,S6,Z12,Z26):\n",
    "    #Questao1\n",
    "    Vmin = min(abs(V3),abs(V4),abs(V5),abs(V6))\n",
    "    print('Valor da tensao minima na rede em % =', (Vmin/abs(V1))*100)\n",
    "    #Questao2\n",
    "    P12 = (V1-V2)*(I12.conjugate()) \n",
    "    P26 = (V2-V6)*(I26.conjugate()) \n",
    "    P60 = S6 \n",
    "    P25 = (V2-V5)*(I25.conjugate()) \n",
    "    P50 = V5*(I25.conjugate())\n",
    "    P23 = (V2-V3)*(I23.conjugate())\n",
    "    P30 = S3\n",
    "    P34 = (V3-V4)*(I34.conjugate())\n",
    "    P40 = (V4)*I34.conjugate()\n",
    "    Ptotal = ((P12+P26+P25+P23+P34).real)/M\n",
    "    Pt = ((P12+P26+P25+P23+P34+P60+P50+P30+P40).real)/M\n",
    "    #print(P12,P26,P25,P23,P26,P34)\n",
    "    print(\"Valor da perda ativa total na linha = {} MW\".format(Ptotal))\n",
    "    print(\"Valor da perda ativa total em tudo = {} MW\".format(Pt))\n",
    "    #Questao3\n",
    "    print('Corrente na linha B1-B2 em A = {}'.format(I12))\n",
    "    #Questao4\n",
    "    print('Corrente na carga B6 =',I60)\n",
    "    #Questao5\n",
    "    print('Potencia ativa em na carga em B3 =',(((V3*(I30.conjugate())).real))/M)\n",
    "    #Questao6\n",
    "    print('Potencia ativa em na carga em B4 =',(((V4*(I40.conjugate())).real))/M)\n",
    "    "
   ]
  },
  {
   "cell_type": "code",
   "execution_count": 25,
   "metadata": {},
   "outputs": [
    {
     "name": "stdout",
     "output_type": "stream",
     "text": [
      "Valor da tensao minima na rede em % = 95.12813446947717\n",
      "Valor da perda ativa total na linha = 0.5681743477021347 MW\n",
      "Valor da perda ativa total em tudo = 41.27323084516219 MW\n",
      "Corrente na linha B1-B2 em A = (518.0241508430425-391.49672546333437j)\n",
      "Corrente na carga B6 = (212.58748898224187-163.87713131124124j)\n",
      "Potencia ativa em na carga em B3 = 5.000000000000001\n",
      "Potencia ativa em na carga em B4 = 6.182813430907326\n"
     ]
    }
   ],
   "source": [
    "ep0(V1,V2,V3,V4,V5,V6,I12,I23,I25,I26,I34,I30,I50,I60,I40,S3,S4,S5,S6,Z12,Z26)"
   ]
  },
  {
   "cell_type": "code",
   "execution_count": null,
   "metadata": {},
   "outputs": [],
   "source": []
  },
  {
   "cell_type": "code",
   "execution_count": null,
   "metadata": {},
   "outputs": [],
   "source": []
  },
  {
   "cell_type": "code",
   "execution_count": null,
   "metadata": {},
   "outputs": [],
   "source": []
  },
  {
   "cell_type": "code",
   "execution_count": null,
   "metadata": {},
   "outputs": [],
   "source": []
  },
  {
   "cell_type": "code",
   "execution_count": null,
   "metadata": {},
   "outputs": [],
   "source": []
  }
 ],
 "metadata": {
  "kernelspec": {
   "display_name": "Python 3",
   "language": "python",
   "name": "python3"
  },
  "language_info": {
   "codemirror_mode": {
    "name": "ipython",
    "version": 3
   },
   "file_extension": ".py",
   "mimetype": "text/x-python",
   "name": "python",
   "nbconvert_exporter": "python",
   "pygments_lexer": "ipython3",
   "version": "3.7.3"
  }
 },
 "nbformat": 4,
 "nbformat_minor": 2
}
