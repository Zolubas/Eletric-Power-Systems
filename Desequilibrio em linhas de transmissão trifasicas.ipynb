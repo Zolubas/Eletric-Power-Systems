{
 "cells": [
  {
   "cell_type": "markdown",
   "metadata": {},
   "source": [
    "## 1. Introdução\n",
    "\n",
    "O presente exercício consiste na análise de uma linha de transmissão trifásica em duas configurações distintas: linha sem transposição e linha com transposição.\n",
    "\n",
    "## 2. Dados da rede\n",
    "\n",
    "A Figura 1 apresenta a matriz de impedâncias série da linha sem transposição. Note que somente o triângulo superior da matriz é indicado, já que a matriz é simétrica.\n",
    "\n"
   ]
  },
  {
   "cell_type": "markdown",
   "metadata": {},
   "source": [
    "![](https://github.com/Zolubas/Eletric-Power-Systems/blob/master/matrizdeimpedanciasseriedalinhasemtransposicaoemohmporkm.png?raw=true.png)"
   ]
  },
  {
   "cell_type": "markdown",
   "metadata": {},
   "source": [
    "### Dados da rede\n",
    "* Comprimento da linha = 200 km\n",
    "* Corrente absorvida pela carga equilibrada, alimentada pela linha. Em [A], em cada fase = 200A"
   ]
  },
  {
   "cell_type": "markdown",
   "metadata": {},
   "source": [
    "### 3. Questões\n",
    "\n",
    "* 1) Calcular o módulo da queda de tensão por fase na linha sem transposição, em [V] (3 valores).\n",
    "\n",
    "* 2) Calcular a perda ativa total (3 fases) na linha sem transposição, em [MW].\n",
    "\n",
    "* 3) Calcular o módulo da queda de tensão por fase na linha completamente transposta, em [V] (3 valores).\n",
    "\n",
    "* 4) Calcular a perda ativa total (3 fases) na linha completamente transposta, em [MW]."
   ]
  },
  {
   "cell_type": "code",
   "execution_count": 5,
   "metadata": {},
   "outputs": [],
   "source": [
    "import cmath\n",
    "import numpy as np\n",
    "K = 1000\n",
    "M = K*K\n"
   ]
  },
  {
   "cell_type": "code",
   "execution_count": 6,
   "metadata": {},
   "outputs": [],
   "source": [
    "Z = 200*np.array([[0.0846 + 0.6423j , 0.0567 + 0.3308j , 0.0573 + 0.3499j],\n",
    "    [0.0567 + 0.3308j , 0.0833 + 0.6438j , 0.0567 + 0.3308j],\n",
    "    [0.0573 + 0.3499j ,  0.0567 + 0.3308j , 0.0846 + 0.6423j]])\n"
   ]
  },
  {
   "cell_type": "code",
   "execution_count": 7,
   "metadata": {},
   "outputs": [],
   "source": [
    "def phase(x): # em graus\n",
    "    return ((180/np.pi)*(np.arctan2(x.imag,x.real)))\n",
    "\n",
    "def modulo(x):\n",
    "    return np.sqrt(x.real*x.real + x.imag*x.imag)\n",
    "            \n",
    "def polar(x):\n",
    "    print(str(modulo(x)) + \"/_\" + str(phase(x)))\n",
    "    \n",
    "def cart2pol(x, y):\n",
    "    rho = np.sqrt(x**2 + y**2)\n",
    "    phi = 180*np.arctan2(y, x)/np.pi\n",
    "    return(rho, phi)\n",
    "\n",
    "def pol2cart(rho, phi):\n",
    "    x = rho * np.cos(phi)\n",
    "    y = rho * np.sin(phi)\n",
    "    return x + y*1j \n"
   ]
  },
  {
   "cell_type": "code",
   "execution_count": 8,
   "metadata": {},
   "outputs": [],
   "source": [
    "alpha = -0.4999999999999998 + 0.8660254037844387j"
   ]
  },
  {
   "cell_type": "code",
   "execution_count": 9,
   "metadata": {},
   "outputs": [
    {
     "name": "stdout",
     "output_type": "stream",
     "text": [
      "[200. 200. 200.]/_[   0. -120.  120.]\n"
     ]
    }
   ],
   "source": [
    "I = 200*np.array([1 , alpha**2, alpha])\n",
    "polar(I)"
   ]
  },
  {
   "cell_type": "code",
   "execution_count": 10,
   "metadata": {},
   "outputs": [
    {
     "name": "stdout",
     "output_type": "stream",
     "text": [
      "0.9999999999999999/_119.99999999999999\n"
     ]
    }
   ],
   "source": [
    "polar(alpha)"
   ]
  },
  {
   "cell_type": "markdown",
   "metadata": {},
   "source": [
    "# 1) Calculo do modulo da queda de tensão na linha por fase (sem transposição de fases) "
   ]
  },
  {
   "cell_type": "code",
   "execution_count": 11,
   "metadata": {},
   "outputs": [],
   "source": [
    "V = Z@I"
   ]
  },
  {
   "cell_type": "code",
   "execution_count": 12,
   "metadata": {},
   "outputs": [
    {
     "data": {
      "text/plain": [
       "array([   442.35659151+12098.78460969j,  10310.63805538 -7181.45102963j,\n",
       "       -11324.67653115 -4499.51564938j])"
      ]
     },
     "execution_count": 12,
     "metadata": {},
     "output_type": "execute_result"
    }
   ],
   "source": [
    "V"
   ]
  },
  {
   "cell_type": "code",
   "execution_count": 13,
   "metadata": {},
   "outputs": [
    {
     "data": {
      "text/plain": [
       "(3,)"
      ]
     },
     "execution_count": 13,
     "metadata": {},
     "output_type": "execute_result"
    }
   ],
   "source": [
    "V.shape"
   ]
  },
  {
   "cell_type": "code",
   "execution_count": 14,
   "metadata": {},
   "outputs": [
    {
     "name": "stdout",
     "output_type": "stream",
     "text": [
      "[12106.86864494 12565.13016248 12185.80894378]/_[  87.90608049  -34.85755422 -158.33110683]\n"
     ]
    }
   ],
   "source": [
    "polar(V)"
   ]
  },
  {
   "cell_type": "markdown",
   "metadata": {},
   "source": [
    "#### Questão 1\n",
    "* VAA' = 12106.86864494 /_ 87.90608049\n",
    "* VBB' = 12565.13016248 /_ -34.85755422\n",
    "* VCC' = 12185.80894378 /_ -158.33110683"
   ]
  },
  {
   "cell_type": "code",
   "execution_count": 15,
   "metadata": {},
   "outputs": [
    {
     "data": {
      "text/plain": [
       "array([12106.86864494, 12565.13016248, 12185.80894378])"
      ]
     },
     "execution_count": 15,
     "metadata": {},
     "output_type": "execute_result"
    }
   ],
   "source": [
    "modulo(V)"
   ]
  },
  {
   "cell_type": "code",
   "execution_count": 16,
   "metadata": {},
   "outputs": [],
   "source": [
    "def diferenca_de_phase(a,b):\n",
    "    return abs(b - a)\n",
    "def dif(a,b):\n",
    "    print(diferenca_de_phase(phase(V[a]),phase(V[b])))"
   ]
  },
  {
   "cell_type": "code",
   "execution_count": 17,
   "metadata": {},
   "outputs": [
    {
     "name": "stdout",
     "output_type": "stream",
     "text": [
      "0.0\n",
      "-123.47355261000001\n",
      "122.76363470999999\n"
     ]
    }
   ],
   "source": [
    "print(-34.85755422+34.85755422)\n",
    "print(-158.33110683+34.85755422)\n",
    "print(87.90608049+34.85755422)"
   ]
  },
  {
   "cell_type": "markdown",
   "metadata": {},
   "source": [
    "Vemos que as diferenças de fase que deveriam ser exatamente 120 graus\n",
    "não bate com a realidade(-123 e 122). Sendo assim propõe-se a  transposição de fase\n",
    "a ser estudada nos itens 3) e 4)\n",
    "\n"
   ]
  },
  {
   "cell_type": "code",
   "execution_count": 18,
   "metadata": {},
   "outputs": [
    {
     "name": "stdout",
     "output_type": "stream",
     "text": [
      "Erro na linha B = 2.8946271750000108 %\n",
      "Erro na linha C = 2.3030289249999925%\n"
     ]
    }
   ],
   "source": [
    "#Erro:\n",
    "EBBlinha = 100*(123.47355261000001-120)/120 \n",
    "ECClinha = 100*(122.76363470999999-120)/120\n",
    "print(\"Erro na linha B = \"+ str(EBBlinha) + \" %\")\n",
    "print(\"Erro na linha C = \"+ str(ECClinha) + \"%\")"
   ]
  },
  {
   "cell_type": "markdown",
   "metadata": {},
   "source": [
    "# 2) Calculo da potência (sem transposição de fases)"
   ]
  },
  {
   "cell_type": "code",
   "execution_count": 19,
   "metadata": {},
   "outputs": [
    {
     "name": "stdout",
     "output_type": "stream",
     "text": [
      "[0.08847132 0.2128     0.35312868]\n"
     ]
    }
   ],
   "source": [
    "def FP(phaseV,phaseI):\n",
    "    return np.cos(np.pi*(phaseV - phaseI)/180)\n",
    "P = (V*I.conjugate()).real/M\n",
    "print(P) #potencia ativa em MW"
   ]
  },
  {
   "cell_type": "code",
   "execution_count": 20,
   "metadata": {},
   "outputs": [
    {
     "name": "stdout",
     "output_type": "stream",
     "text": [
      "Perda Ativa total = 0.6543999999999993 MW\n"
     ]
    }
   ],
   "source": [
    "print(\"Perda Ativa total = \" + str(P[0] + P[1] + P[2]) +\" \" + \"MW\")"
   ]
  },
  {
   "cell_type": "markdown",
   "metadata": {},
   "source": [
    "Assim vemos que\n",
    "* PAA' = 0.08847132 MW\n",
    "* PBB' = 0.2128 MW\n",
    "* PCC' = 0.35312868\n",
    "\n",
    "quando na verdade deveriamos ter P0 = P1 = P2"
   ]
  },
  {
   "cell_type": "markdown",
   "metadata": {},
   "source": [
    "# 3) Calculando o modulo da queda de tensão na linha por fase (com transposição de fase)"
   ]
  },
  {
   "cell_type": "markdown",
   "metadata": {},
   "source": [
    "\n",
    " ![](https://github.com/Zolubas/Eletric-Power-Systems/blob/master/TransposicaoDefase1.png?raw=true.png)"
   ]
  },
  {
   "cell_type": "markdown",
   "metadata": {},
   "source": [
    "Vemos que nesse caso cada mutua na matriz Z afetaria o sistema multiplicada por um fator 1/3. Alem disso todas fases\n",
    "AA', BB', CC' experimentariam as mesmas Mutuas, o que tenderia a equilibrar mais o sistema com relacção a parte imaginaria\n",
    "dos termos que não se encontram na diagonal principal da matriz Z. Porém vejamos que efeito isso tem na parte real desses\n",
    "valores haja vista que eles modelam não as mutuas mas sim efeitos de perda por retorno pela terra que é composta por\n",
    "diferentes densidades e extratos nos 200 km de linha considerados."
   ]
  },
  {
   "cell_type": "code",
   "execution_count": 21,
   "metadata": {},
   "outputs": [],
   "source": [
    "#Mutua média ZM , A[LINHA][COLUNA]\n",
    "# ZM = (MAB + MAC + MBC)/3\n",
    "ZM = 200*((0.0567 + 0.3308j) + (0.0573 + 0.3499j) + (0.0567 + 0.3308j))/3"
   ]
  },
  {
   "cell_type": "code",
   "execution_count": 22,
   "metadata": {
    "scrolled": true
   },
   "outputs": [
    {
     "data": {
      "text/plain": [
       "(11.38+67.43333333333332j)"
      ]
     },
     "execution_count": 22,
     "metadata": {},
     "output_type": "execute_result"
    }
   ],
   "source": [
    "ZM"
   ]
  },
  {
   "cell_type": "code",
   "execution_count": 23,
   "metadata": {},
   "outputs": [],
   "source": [
    "ZA = (0.0846 + 0.6423j)*200\n",
    "ZB = (0.0833 + 0.6438j)*200\n",
    "ZC = (0.0846 + 0.6423j)*200\n",
    "ZP = (ZA + ZB + ZC)/3\n",
    "Z_com_transposicao = np.array([[ZP,ZM,ZM],[ZM,ZP,ZM],[ZM,ZM,ZP]])"
   ]
  },
  {
   "cell_type": "code",
   "execution_count": 24,
   "metadata": {},
   "outputs": [
    {
     "data": {
      "text/plain": [
       "(0.08416666666666667+0.6428000000000001j)"
      ]
     },
     "execution_count": 24,
     "metadata": {},
     "output_type": "execute_result"
    }
   ],
   "source": [
    "ZP/200"
   ]
  },
  {
   "cell_type": "code",
   "execution_count": 25,
   "metadata": {},
   "outputs": [
    {
     "data": {
      "text/plain": [
       "array([[16.83333333+128.56j      , 11.38       +67.43333333j,\n",
       "        11.38       +67.43333333j],\n",
       "       [11.38       +67.43333333j, 16.83333333+128.56j      ,\n",
       "        11.38       +67.43333333j],\n",
       "       [11.38       +67.43333333j, 11.38       +67.43333333j,\n",
       "        16.83333333+128.56j      ]])"
      ]
     },
     "execution_count": 25,
     "metadata": {},
     "output_type": "execute_result"
    }
   ],
   "source": [
    "Z_com_transposicao"
   ]
  },
  {
   "cell_type": "code",
   "execution_count": 26,
   "metadata": {},
   "outputs": [
    {
     "name": "stdout",
     "output_type": "stream",
     "text": [
      "[12273.88809175 12273.88809175 12273.88809175]/_[  84.90193083  -35.09806917 -155.09806917]\n"
     ]
    }
   ],
   "source": [
    "V_com_transposicao = Z_com_transposicao@I\n",
    "polar(V_com_transposicao)"
   ]
  },
  {
   "cell_type": "code",
   "execution_count": 27,
   "metadata": {},
   "outputs": [
    {
     "data": {
      "text/plain": [
       "array([12273.88809175, 12273.88809175, 12273.88809175])"
      ]
     },
     "execution_count": 27,
     "metadata": {},
     "output_type": "execute_result"
    }
   ],
   "source": [
    "modulo(V_com_transposicao)"
   ]
  },
  {
   "cell_type": "code",
   "execution_count": 28,
   "metadata": {},
   "outputs": [
    {
     "name": "stdout",
     "output_type": "stream",
     "text": [
      "0.0\n",
      "-120.0\n",
      "120.0\n"
     ]
    }
   ],
   "source": [
    "print(-35.09806917 +35.09806917 )\n",
    "print(-155.09806917+35.09806917)\n",
    "print(84.90193083+35.09806917)"
   ]
  },
  {
   "cell_type": "code",
   "execution_count": 29,
   "metadata": {},
   "outputs": [
    {
     "name": "stdout",
     "output_type": "stream",
     "text": [
      "Erro na linha B = 0.0 %\n",
      "Erro na linha C = 0.0%\n"
     ]
    }
   ],
   "source": [
    "#Erro:\n",
    "EBBlinha = 100*(120.0-120)/120 \n",
    "ECClinha = 100*(120.0-120)/120\n",
    "print(\"Erro na linha B = \"+ str(EBBlinha) + \" %\")\n",
    "print(\"Erro na linha C = \"+ str(ECClinha) + \"%\")"
   ]
  },
  {
   "cell_type": "markdown",
   "metadata": {},
   "source": [
    "# 4) Potência Ativa total com transposição"
   ]
  },
  {
   "cell_type": "code",
   "execution_count": 30,
   "metadata": {},
   "outputs": [
    {
     "name": "stdout",
     "output_type": "stream",
     "text": [
      "[0.21813333 0.21813333 0.21813333]\n"
     ]
    }
   ],
   "source": [
    "P = (V_com_transposicao*I.conjugate()).real/M\n",
    "print(P) #potencia ativa em MW"
   ]
  },
  {
   "cell_type": "code",
   "execution_count": 31,
   "metadata": {},
   "outputs": [
    {
     "name": "stdout",
     "output_type": "stream",
     "text": [
      "Perda Ativa total = 0.6543999999999994 MW\n"
     ]
    }
   ],
   "source": [
    "print(\"Perda Ativa total = \" + str(P[0] + P[1] + P[2]) +\" \" + \"MW\")"
   ]
  },
  {
   "cell_type": "markdown",
   "metadata": {},
   "source": [
    "##  Questões desafio\n",
    "* Questão 1\n",
    "    Por que na matriz de impedâncias série da linha sem transposição as impedâncias mútuas possuem parte\n",
    "    real não nula?\n",
    "    \n",
    "    \n",
    "* Questão 2\n",
    "    Por que na matriz de impedâncias série da linha sem transposição as impedâncias próprias são diferentes,\n",
    "    se a linha foi construída com 3 condutores idênticos?\n",
    "    \n",
    "    \n",
    "* Questão 3\n",
    "    O que se pode afirmar em relação à disposição geométrica dos condutores, a partir dos valores numéricos\n",
    "    na matriz de impedâncias série da linha sem transposição?\n",
    "    \n",
    "    \n",
    "* Questão 4\n",
    "    Uma linha de alta tensão possui, além dos condutores de fase, um ou mais condutores guarda, cuja\n",
    "    finalidade é proteger a linha contra sobretensões oriundas de descargas atmosféricas (diretamente na linha\n",
    "    ou em suas proximidades).\n",
    "    Considere que no presente caso a linha conta com 2 cabos guarda, de tal forma que a matriz de\n",
    "    impedâncias série completa (5 condutores) é dada por (valores em ohm/km):(Figura 1)\n",
    "    \n",
    "    \n",
    "    Os cabos guarda podem ser aterrados somente numa extremidade, ou então aterrados nas duasextremidades. A condição de contorno em cada caso é dada por:\n",
    "* a) cabos guarda aterrados numa extremidade:(Figura 2)\n",
    "* b) cabos guarda aterrados nas duas extremidades:(Figura 3)\n",
    "\n",
    "\n",
    "    Pede-se determinar a matriz de impedâncias série equivalente (3 x 3) após a eliminação dos cabos guarda,\n",
    "    nos 2 casos (cabos guarda aterrados numa extremidade e cabos guarda aterrados nas duas extremidades).\n",
    "    Sugestão:\n",
    "    Lembre que a matriz de impedâncias série representa na verdade um sistema de equações; no presente\n",
    "    caso de 5 condutores tem-se:(Figura 4)\n",
    "    \n",
    "    \n",
    "    Particione a matriz segundo a terceira linha/coluna e imponha cada uma das duas condições de contorno;\n",
    "    escreva as duas equações com as submatrizes que resultam da partição, e obtenha finalmente uma matriz\n",
    "    3 x 3 modificada (a matriz equivalente que está sendo solicitada).\n",
    "\n",
    "\n"
   ]
  },
  {
   "cell_type": "markdown",
   "metadata": {},
   "source": [
    "![](https://github.com/Zolubas/Eletric-Power-Systems/blob/master/matrizesdodesafiotransposicao.png?raw=true.png)"
   ]
  },
  {
   "cell_type": "markdown",
   "metadata": {},
   "source": [
    "# 1) Desafio\n",
    "\n",
    "As impedâncias fora da diagonal principal modelam efeitos de indutâncias mutuas dadas por reatâncias representadas pela parte imaginária dessas impedâncias. Sabe-se que Indutâncias mutuas não possuem parte real em sua representação por impedâncias. Sendo assim essa parte realse deve ao retorno via solo.\n"
   ]
  },
  {
   "cell_type": "markdown",
   "metadata": {},
   "source": [
    "# 2) Desafio\n",
    "Embora os três fios sejam identicos é preciso considerar que existem ligeiras diferenças em seu caminho que podem ter ocasionado isso:\n",
    "##### Parte Resisitiva \n",
    "1) Resistência na emenda dos fios \n",
    "##### Parte Reativa \n",
    "1) Diferenças no solo abaixo da passagem da rede elétrica entre as fases de tal modo que a \"espira\" fechada entre uma dada fase e o solo em comparação com outro par fase-solo seja diferente.\n",
    "* Extrato do solo\n",
    "* Materias diferentes abaixo de cada fase\n",
    "* **Diferenças de altura entre um cabo e o solo devido a geometria da torre de transmissão**\n",
    "\n",
    "Com tudo observa-se que essas diferenças, apesar de indesejadas , ainda ficam na ordem de deca-ohms."
   ]
  },
  {
   "cell_type": "code",
   "execution_count": 34,
   "metadata": {},
   "outputs": [
    {
     "name": "stdout",
     "output_type": "stream",
     "text": [
      "Resistenências = 16.919999999999998 ; 16.66 ; 16.919999999999998\n",
      "Reatâncias = 128.46 ; 128.76000000000002 ; 128.46\n"
     ]
    }
   ],
   "source": [
    "RA = Z[0][0].real\n",
    "RB = Z[1][1].real\n",
    "RC = Z[2][2].real\n",
    "\n",
    "XA = Z[0][0].imag\n",
    "XB = Z[1][1].imag\n",
    "XC = Z[2][2].imag\n",
    "print(\"Resistenências = \" + str(RA) +\" ; \"+ str(RB) +\" ; \"+ str(RC))\n",
    "print(\"Reatâncias = \" + str(XA) +\" ; \"+ str(XB) +\" ; \"+ str(XC))"
   ]
  },
  {
   "cell_type": "markdown",
   "metadata": {},
   "source": [
    "# 3) Desafio\n",
    "A reatância de cada fase nos dará uma idea boa da distribuição geométrica dos fios dado que a Indutância prórpia nesse caso dependerá de fatores geométricos da espira formada entre o cabo e o solo. \n",
    "\n",
    "Matemáticamente temos que:\n",
    "\n",
    "L = N²/***R*** [H]\n",
    "\n",
    "***R*** = lm/***u***.S [H-¹]\n",
    "\n",
    "S = \"Área da espira\" = h.L_cabo [m]\n",
    "\n",
    "h = altura do fio ; L_cabo = comprimento do cabo\n",
    "\n",
    "Ou seja, considerando-se sigma = N².***u***.L_cabo / lm\n",
    "\n",
    "Temos uma formula para L em função da altura h:\n",
    "\n",
    "                            L = sigma.h"
   ]
  },
  {
   "cell_type": "code",
   "execution_count": 37,
   "metadata": {},
   "outputs": [
    {
     "name": "stdout",
     "output_type": "stream",
     "text": [
      "Indutâncias prórpias 0.34075073315974796 ; 0.34154650787520746 ; 0.34075073315974796\n",
      "Indutâncias prórpias normalizadas 99.76700838769804 ; 100.0 ; 99.76700838769804\n"
     ]
    }
   ],
   "source": [
    "#Sendo assim tempos que:\n",
    "#(Assumindo-se a rede brasileira em 60 Hz)\n",
    "f = 60\n",
    "w  = 2*np.pi*f\n",
    "LA = XA/w\n",
    "LB = XB/w\n",
    "LC = XC/w\n",
    "print(\"Indutâncias prórpias \" + str(LA) +\" ; \"+ str(LB) +\" ; \"+ str(LC))\n",
    "print(\"Indutâncias prórpias normalizadas \" + str(100*LA/LB) +\" ; \"+ str(100*LB/LB) +\" ; \"+ str(100*LC/LB))"
   ]
  },
  {
   "cell_type": "markdown",
   "metadata": {},
   "source": [
    "Assim conclui-se que as fases A e C são lançadas a uma mesma altura ao passo que a fase B é lançada a uma altura superior as outras duas descrita pela relação linear entre indutância prórpia e altura do cabo descrita acima.\n",
    "(Para essa analise assumiu-se que todos os parâmetros que compõe *sigma* fossem aproximadamente constantes."
   ]
  },
  {
   "cell_type": "markdown",
   "metadata": {},
   "source": [
    "![](https://github.com/Zolubas/Eletric-Power-Systems/blob/master/tiposdetorresdetransmissao.png?raw=true.png)"
   ]
  },
  {
   "cell_type": "markdown",
   "metadata": {},
   "source": [
    "De uma forma visual, poderiamos concluir que dentre esses tipos de torre para linha de transmissão a torre utilizada seria aquela destacada a esquerda.\n",
    "https://www.abcem.org.br/construmetal/2016/downloads/apresentacao/18_TORRE-DE-TRANSMISSAO-DE-ENERGIA-ELETRICA.pdf"
   ]
  },
  {
   "cell_type": "markdown",
   "metadata": {},
   "source": [
    "# 4) Desafio\n"
   ]
  },
  {
   "cell_type": "code",
   "execution_count": null,
   "metadata": {},
   "outputs": [],
   "source": []
  }
 ],
 "metadata": {
  "kernelspec": {
   "display_name": "Python 3",
   "language": "python",
   "name": "python3"
  },
  "language_info": {
   "codemirror_mode": {
    "name": "ipython",
    "version": 3
   },
   "file_extension": ".py",
   "mimetype": "text/x-python",
   "name": "python",
   "nbconvert_exporter": "python",
   "pygments_lexer": "ipython3",
   "version": "3.7.3"
  }
 },
 "nbformat": 4,
 "nbformat_minor": 2
}
